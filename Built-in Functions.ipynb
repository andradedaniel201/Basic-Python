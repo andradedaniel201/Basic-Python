{
 "cells": [
  {
   "cell_type": "markdown",
   "id": "8689859c-3fb4-46a7-a3a1-77389bd9aeba",
   "metadata": {},
   "source": [
    "# Built-in Functions"
   ]
  },
  {
   "cell_type": "markdown",
   "id": "717fc06c-4bc7-4bd7-80c5-b7cf04cfd952",
   "metadata": {
    "jp-MarkdownHeadingCollapsed": true,
    "tags": []
   },
   "source": [
    "### abs\n",
    "\n",
    "Return the absolute value of a number. The argument may be an integer, a floating point number, or an object implementing $__abs__()$. If the argument is a complex number, its magnitude is returned."
   ]
  },
  {
   "cell_type": "code",
   "execution_count": 5,
   "id": "a022d94c-79e1-4fe5-aac9-a21639e96fd5",
   "metadata": {
    "tags": []
   },
   "outputs": [
    {
     "data": {
      "text/plain": [
       "1"
      ]
     },
     "execution_count": 5,
     "metadata": {},
     "output_type": "execute_result"
    }
   ],
   "source": [
    "x = -1\n",
    "abs(x)"
   ]
  },
  {
   "cell_type": "markdown",
   "id": "7c65a3f2-8a0c-4142-b532-c8cb0a7b0b4c",
   "metadata": {
    "jp-MarkdownHeadingCollapsed": true,
    "tags": []
   },
   "source": [
    "### all\n",
    "\n",
    "Return True if all elements of the iterable are true (or if the iterable is empty)"
   ]
  },
  {
   "cell_type": "code",
   "execution_count": 9,
   "id": "6bf9caa5-dfa4-4fe1-a579-3d0bf45083e8",
   "metadata": {
    "tags": []
   },
   "outputs": [
    {
     "data": {
      "text/plain": [
       "(True, False)"
      ]
     },
     "execution_count": 9,
     "metadata": {},
     "output_type": "execute_result"
    }
   ],
   "source": [
    "mylist = [1, 1, 1]\n",
    "mylist2 = [0, 0, 1]\n",
    "x = all(mylist)\n",
    "y = all(mylist2)\n",
    "x,y"
   ]
  },
  {
   "cell_type": "markdown",
   "id": "c6ea5f80-0d31-4dda-b211-5ee5459910de",
   "metadata": {
    "jp-MarkdownHeadingCollapsed": true,
    "tags": []
   },
   "source": [
    "### any\n",
    "\n",
    "Return True if any element of the iterable is true."
   ]
  },
  {
   "cell_type": "code",
   "execution_count": 11,
   "id": "57eacedc-f4de-4b30-b092-12c7b7b2c8ab",
   "metadata": {
    "tags": []
   },
   "outputs": [
    {
     "data": {
      "text/plain": [
       "(True, True)"
      ]
     },
     "execution_count": 11,
     "metadata": {},
     "output_type": "execute_result"
    }
   ],
   "source": [
    "mylist = [1, 1, 1]\n",
    "mylist2 = [0, 0, 1]\n",
    "x = any(mylist)\n",
    "y = any(mylist2)\n",
    "x,y"
   ]
  },
  {
   "cell_type": "markdown",
   "id": "e955729b-ccdf-4dad-bcfe-d737d261ef2a",
   "metadata": {
    "jp-MarkdownHeadingCollapsed": true,
    "tags": []
   },
   "source": [
    "### input\n",
    "\n",
    "The function reads a line from input, converts it to a string."
   ]
  },
  {
   "cell_type": "code",
   "execution_count": 13,
   "id": "4be59fe3-fed1-4b8a-85c7-5d06d0dbff0e",
   "metadata": {
    "tags": []
   },
   "outputs": [
    {
     "name": "stdin",
     "output_type": "stream",
     "text": [
      " Daniel\n"
     ]
    }
   ],
   "source": [
    "a = input()"
   ]
  },
  {
   "cell_type": "code",
   "execution_count": 14,
   "id": "c3e93db3-08ab-4752-8872-83456283c805",
   "metadata": {
    "tags": []
   },
   "outputs": [
    {
     "data": {
      "text/plain": [
       "'Daniel'"
      ]
     },
     "execution_count": 14,
     "metadata": {},
     "output_type": "execute_result"
    }
   ],
   "source": [
    "a"
   ]
  },
  {
   "cell_type": "markdown",
   "id": "1a493312-a2bf-4086-a9cc-9b9bef994ca6",
   "metadata": {
    "jp-MarkdownHeadingCollapsed": true,
    "tags": []
   },
   "source": [
    "### len\n",
    "\n",
    "Return the length (the number of items) of an object."
   ]
  },
  {
   "cell_type": "code",
   "execution_count": 15,
   "id": "af858d3c-fbcf-4595-9c43-f61edcdfe541",
   "metadata": {
    "tags": []
   },
   "outputs": [
    {
     "data": {
      "text/plain": [
       "3"
      ]
     },
     "execution_count": 15,
     "metadata": {},
     "output_type": "execute_result"
    }
   ],
   "source": [
    "x = [1,2,3]\n",
    "len(x)"
   ]
  },
  {
   "cell_type": "markdown",
   "id": "74d987b2-1ecf-4158-9246-53818679ca2b",
   "metadata": {
    "jp-MarkdownHeadingCollapsed": true,
    "tags": []
   },
   "source": [
    "### max\n",
    "\n",
    "Return the largest item in an iterable or the largest of two or more arguments.\n",
    "\n",
    "Return strings in inverse alphabetic order."
   ]
  },
  {
   "cell_type": "code",
   "execution_count": 21,
   "id": "95c71220-c614-4f31-8fc2-72490b50271e",
   "metadata": {
    "tags": []
   },
   "outputs": [
    {
     "data": {
      "text/plain": [
       "3"
      ]
     },
     "execution_count": 21,
     "metadata": {},
     "output_type": "execute_result"
    }
   ],
   "source": [
    "x = [1,2,3]\n",
    "max(x)"
   ]
  },
  {
   "cell_type": "code",
   "execution_count": 25,
   "id": "54b7712a-8c88-4721-a26a-cb4f0e0c1aa6",
   "metadata": {
    "tags": []
   },
   "outputs": [
    {
     "data": {
      "text/plain": [
       "[4]"
      ]
     },
     "execution_count": 25,
     "metadata": {},
     "output_type": "execute_result"
    }
   ],
   "source": [
    "x = [1,2,3]\n",
    "y = [4]\n",
    "max(x,y)"
   ]
  },
  {
   "cell_type": "code",
   "execution_count": 26,
   "id": "56b16382-f4c8-4786-933e-d9c9b87116dc",
   "metadata": {
    "tags": []
   },
   "outputs": [
    {
     "data": {
      "text/plain": [
       "'Vicky'"
      ]
     },
     "execution_count": 26,
     "metadata": {},
     "output_type": "execute_result"
    }
   ],
   "source": [
    "x = [\"Mike\", \"John\", \"Vicky\"]\n",
    "max(x)"
   ]
  },
  {
   "cell_type": "markdown",
   "id": "5bf27abf-854d-45bb-b1e0-dac35e12472f",
   "metadata": {
    "jp-MarkdownHeadingCollapsed": true,
    "tags": []
   },
   "source": [
    "### min\n",
    "\n",
    "Return the smallest item in an iterable or the largest of two or more arguments.\n",
    "\n",
    "Return strings in alphabetic order."
   ]
  },
  {
   "cell_type": "code",
   "execution_count": 22,
   "id": "40c54d94-976e-4a93-8071-fbbb8b65e4b7",
   "metadata": {
    "tags": []
   },
   "outputs": [
    {
     "data": {
      "text/plain": [
       "1"
      ]
     },
     "execution_count": 22,
     "metadata": {},
     "output_type": "execute_result"
    }
   ],
   "source": [
    "x = [1,2,3]\n",
    "min(x)"
   ]
  },
  {
   "cell_type": "code",
   "execution_count": 23,
   "id": "72904809-7185-43ac-b8b3-3d8e23478725",
   "metadata": {
    "tags": []
   },
   "outputs": [
    {
     "data": {
      "text/plain": [
       "[1, 2, 3]"
      ]
     },
     "execution_count": 23,
     "metadata": {},
     "output_type": "execute_result"
    }
   ],
   "source": [
    "x = [1,2,3]\n",
    "y = [4]\n",
    "min(x,y)"
   ]
  },
  {
   "cell_type": "code",
   "execution_count": 24,
   "id": "f4987148-f756-423e-a322-19b4d764a09a",
   "metadata": {
    "tags": []
   },
   "outputs": [
    {
     "data": {
      "text/plain": [
       "'John'"
      ]
     },
     "execution_count": 24,
     "metadata": {},
     "output_type": "execute_result"
    }
   ],
   "source": [
    "x = [\"Mike\", \"John\", \"Vicky\"]\n",
    "min(x)"
   ]
  },
  {
   "cell_type": "markdown",
   "id": "0bcbbf9e-0916-4fdd-b560-97c922bce9ce",
   "metadata": {
    "jp-MarkdownHeadingCollapsed": true,
    "tags": []
   },
   "source": [
    "### pow\n",
    "\n",
    "Return base to the power exp."
   ]
  },
  {
   "cell_type": "code",
   "execution_count": 28,
   "id": "80590db9-e5d2-4c31-8389-647898bc8d4e",
   "metadata": {
    "tags": []
   },
   "outputs": [
    {
     "data": {
      "text/plain": [
       "4"
      ]
     },
     "execution_count": 28,
     "metadata": {},
     "output_type": "execute_result"
    }
   ],
   "source": [
    "pow(2, 2)"
   ]
  },
  {
   "cell_type": "code",
   "execution_count": 29,
   "id": "0ca3323f-4cf5-4c09-b61e-34e885a61a54",
   "metadata": {
    "tags": []
   },
   "outputs": [
    {
     "data": {
      "text/plain": [
       "2.0"
      ]
     },
     "execution_count": 29,
     "metadata": {},
     "output_type": "execute_result"
    }
   ],
   "source": [
    "pow(4, 0.5)"
   ]
  },
  {
   "cell_type": "markdown",
   "id": "82bca009-4708-4e17-89cc-9e6073d0cd7a",
   "metadata": {
    "jp-MarkdownHeadingCollapsed": true,
    "tags": []
   },
   "source": [
    "### print"
   ]
  },
  {
   "cell_type": "code",
   "execution_count": 31,
   "id": "363f2309-94fe-4010-b81a-375243e8b4e3",
   "metadata": {
    "tags": []
   },
   "outputs": [
    {
     "name": "stdout",
     "output_type": "stream",
     "text": [
      "('apple', 'grape')---('maçã', 'uva')\n"
     ]
    }
   ],
   "source": [
    "x = (\"apple\", \"grape\")\n",
    "y = (\"maçã\", \"uva\")\n",
    "print(x,y, sep=\"---\")"
   ]
  },
  {
   "cell_type": "code",
   "execution_count": 35,
   "id": "981eedae-2eb1-4e6e-9211-79a3a9ecbaf8",
   "metadata": {
    "tags": []
   },
   "outputs": [
    {
     "name": "stdout",
     "output_type": "stream",
     "text": [
      "My name is Alice and I am 30 years old. Nice to meet you!\n"
     ]
    }
   ],
   "source": [
    "name = \"Alice\"\n",
    "age = 30\n",
    "print(\"My name is\", name, \"and I am\", age, \"years old.\", end=\" \")\n",
    "print(\"Nice to meet you!\")"
   ]
  },
  {
   "cell_type": "code",
   "execution_count": 39,
   "id": "5ec44a2c-9a76-486d-891c-937225f5e56c",
   "metadata": {
    "tags": []
   },
   "outputs": [
    {
     "name": "stdout",
     "output_type": "stream",
     "text": [
      "09-12-2016\n",
      "a\n"
     ]
    }
   ],
   "source": [
    "print('09','12','2016', sep='-')\n",
    "print('a')"
   ]
  },
  {
   "cell_type": "markdown",
   "id": "f50df29d-7e59-4cde-a90c-bf9e54fe1e0f",
   "metadata": {
    "jp-MarkdownHeadingCollapsed": true,
    "tags": []
   },
   "source": [
    "### reversed\n",
    "\n",
    "Return a reverse iterator."
   ]
  },
  {
   "cell_type": "code",
   "execution_count": 45,
   "id": "e297a613-ad1d-48f7-83dc-a3b89b70640e",
   "metadata": {
    "tags": []
   },
   "outputs": [
    {
     "name": "stdout",
     "output_type": "stream",
     "text": [
      "[3, 2, 1]\n"
     ]
    }
   ],
   "source": [
    "x = [1,2,3]\n",
    "y = list(reversed(x))\n",
    "print(y)"
   ]
  },
  {
   "cell_type": "markdown",
   "id": "44791655-9ea3-4cf9-ac1b-aa84d7d26fa9",
   "metadata": {
    "jp-MarkdownHeadingCollapsed": true,
    "tags": []
   },
   "source": [
    "### round"
   ]
  },
  {
   "cell_type": "code",
   "execution_count": 47,
   "id": "2646ac32-6fb3-48cb-bcb1-f1edacb9baff",
   "metadata": {
    "tags": []
   },
   "outputs": [],
   "source": [
    "x = 1.2345"
   ]
  },
  {
   "cell_type": "code",
   "execution_count": 48,
   "id": "d9d1d6a5-6916-4fcd-8bb7-bc8d12ca6a69",
   "metadata": {
    "tags": []
   },
   "outputs": [
    {
     "data": {
      "text/plain": [
       "1.23"
      ]
     },
     "execution_count": 48,
     "metadata": {},
     "output_type": "execute_result"
    }
   ],
   "source": [
    "round(x,2)"
   ]
  },
  {
   "cell_type": "markdown",
   "id": "1c81cccd-ef0f-4430-b206-57316552b0be",
   "metadata": {
    "jp-MarkdownHeadingCollapsed": true,
    "tags": []
   },
   "source": [
    "### sorted\n",
    "\n",
    "$sorted(iterable, /, *, key=None, reverse=False)$"
   ]
  },
  {
   "cell_type": "code",
   "execution_count": 53,
   "id": "963d5884-9813-47fc-8527-83780aa32037",
   "metadata": {
    "tags": []
   },
   "outputs": [
    {
     "name": "stdout",
     "output_type": "stream",
     "text": [
      "[1, 2, 3, 5]\n"
     ]
    }
   ],
   "source": [
    "x = [2,5,3,1]\n",
    "y = sorted(x)\n",
    "print(y)"
   ]
  },
  {
   "cell_type": "code",
   "execution_count": 54,
   "id": "52595dd3-0f8c-4148-93ee-25bb5d8d006a",
   "metadata": {
    "tags": []
   },
   "outputs": [
    {
     "name": "stdout",
     "output_type": "stream",
     "text": [
      "[5, 3, 2, 1]\n"
     ]
    }
   ],
   "source": [
    "x = [2,5,3,1]\n",
    "y = sorted(x, reverse=True)\n",
    "print(y)"
   ]
  },
  {
   "cell_type": "code",
   "execution_count": 59,
   "id": "4aa96d5f-7810-4fe5-b57d-74f2140a2a9c",
   "metadata": {
    "tags": []
   },
   "outputs": [
    {
     "name": "stdout",
     "output_type": "stream",
     "text": [
      "['apple', 'grape', 'orange']\n"
     ]
    }
   ],
   "source": [
    "x = (\"orange\", \"apple\", \"grape\")\n",
    "y = sorted(x, key=str.lower)\n",
    "print(y)"
   ]
  },
  {
   "cell_type": "markdown",
   "id": "dd84acb2-8fed-4451-a8f7-df7644adb732",
   "metadata": {
    "jp-MarkdownHeadingCollapsed": true,
    "tags": []
   },
   "source": [
    "### sum"
   ]
  },
  {
   "cell_type": "code",
   "execution_count": 60,
   "id": "3fefd7db-c679-4aa9-b4ee-b1dbb0064032",
   "metadata": {
    "tags": []
   },
   "outputs": [
    {
     "name": "stdout",
     "output_type": "stream",
     "text": [
      "11\n"
     ]
    }
   ],
   "source": [
    "x = [2,5,3,1]\n",
    "y = sum(x)\n",
    "print(y)"
   ]
  }
 ],
 "metadata": {
  "kernelspec": {
   "display_name": "Python 3 (ipykernel)",
   "language": "python",
   "name": "python3"
  },
  "language_info": {
   "codemirror_mode": {
    "name": "ipython",
    "version": 3
   },
   "file_extension": ".py",
   "mimetype": "text/x-python",
   "name": "python",
   "nbconvert_exporter": "python",
   "pygments_lexer": "ipython3",
   "version": "3.10.13"
  }
 },
 "nbformat": 4,
 "nbformat_minor": 5
}
